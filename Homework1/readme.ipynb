{
 "cells": [
  {
   "cell_type": "markdown",
   "metadata": {},
   "source": [
    "# Tarea 1, High Performance Computing 2018-2\n",
    "\n",
    "Con el fin de realizar un repaso de las habilidades de programación, se debe construir un programa que permita multiplicar 2 matrices, teniendo en cuenta las siguientes condiciones :\n",
    "\n",
    "* El programa debe permite generar matrices aleatorias.\n",
    "* Se deben realizar las implementaciones : \n",
    "    - Secuencial\n",
    "    - Acelerada \n",
    "        - Hilos vs Procesos \n",
    "* Se deben construir graficas de tiempo vs tamaño de la matriz. \n",
    "    - Los tiempos deben ser promediados\n",
    "\n",
    "\n",
    "El resulta de la multiplicación de las dos matrices debe ser enviado via stdout aun archivo de texto,\n",
    "utilizar ***[HPCG1]*** es el asunto que debe tener el email enviado al docente Ramiro.\n",
    "\n",
    "<cite>Como tipo de dato se utiliza long long ***int64***</cite>\n",
    "\n",
    "# Solución\n",
    "\n",
    "## Multiplicación de Matrices\n",
    "dadas dos matrices $A$,$B$ de la forma:\n",
    "$$A = \\begin{pmatrix}\n",
    " a_{1 1} & \\cdots & a_{1 n} \\\\\n",
    " \\vdots & \\ddots & \\vdots \\\\\n",
    " a_{m 1} & \\cdots & a_{m n}\n",
    " \\end{pmatrix}, B = \\begin{pmatrix}\n",
    " b_{1 1} & \\cdots & b_{1 n} \\\\\n",
    " \\vdots & \\ddots & \\vdots \\\\\n",
    " b_{m 1} & \\cdots & b_{m n}\n",
    " \\end{pmatrix}\n",
    " $$\n",
    "\n",
    "Escritas en los textos como $A:=(a_{i j})_{m \\times n}$, $B:=(b_{i j})_{n \\times p}$, donde $m,n,p$ indican las filas y columnas de cada matriz, el producto de $A\\cdot B$ es:\n",
    "$C = AB_{}^{}$.\n",
    "\n",
    "$$ \\begin{pmatrix}\n",
    " a_{1 1} & \\cdots & a_{1 n} \\\\\n",
    " \\vdots & \\ddots & \\vdots \\\\\n",
    " a_{m 1} & \\cdots & a_{m n}\n",
    " \\end{pmatrix} \\cdot \\begin{pmatrix}\n",
    " b_{1 1} & \\cdots & b_{1 p} \\\\\n",
    " \\vdots & \\ddots & \\vdots \\\\\n",
    " b_{n 1} & \\cdots & b_{n p}\n",
    " \\end{pmatrix}$$\n",
    " \n",
    " $$\\begin{pmatrix}\n",
    " a_{11}b_{11}+ \\cdots +a_{1n}b_{n1} & \\cdots & a_{11}b_{1p}+ \\cdots +a_{1n}b_{np} \\\\\n",
    " \\vdots & \\ddots & \\vdots \\\\\n",
    " a_{m1}b_{11}+ \\cdots +a_{mn}b_{n1} & \\cdots & a_{m1}b_{1p}+ \\cdots +a_{mn}b_{np}\n",
    " \\end{pmatrix}\n",
    "$$\n",
    "\n",
    "Que no es mas que la sumatoria de multiplicar la fila por la columna para cada elemento de la matriz resulta:\n",
    "$$c_{ij} = \\sum_{r=1}^n a_{ir}b_{rj}$$\n",
    "\n",
    "\n",
    "*Nota[!]:La cantindad de Columnas debe ser igual a la cantidad de filas de la segunda matriz,$A:=(a_{i j})_{m \\times n}$, $B:=(b_{i j})_{n \\times p}$, tendra como resultado una Matriz $B:=(b_{i j})_{m \\times p}$*.\n",
    "\n",
    "De las observaciones anteriores podemos decir que  para resolver la multiplicación de las matrices $A\\cdot B$ es necesario realizar $m*n*p$ multiplicaciones, Seria posible utilizar una gran cantidad de tecnicas como se describe  en[[1][1]]y [[2][2]], pero por tiempo utilizare la version interactiva tiene un costo $Θ(n^{3})$ como se muestra en [[3][3]]:\n",
    "<img src=\"http://i.imgur.com/Y4OmGFt.png\" height=\"650\" width=\"640\">\n",
    "\n",
    "[1]: https://en.wikipedia.org/wiki/Matrix_multiplication_algorithm#Iterative_algorithm\n",
    "[2]: https://es.wikibooks.org/wiki/Optimizaci%C3%B3n_del_Producto_de_Matrices\n",
    "[3]: https://en.wikipedia.org/wiki/Matrix_multiplication_algorithm#Iterative_algorithm"
   ]
  },
  {
   "cell_type": "markdown",
   "metadata": {},
   "source": [
    "## Implementación práctica\n",
    "\n",
    "Para realizar la implementacion de la tarea he decidido usar Python en su version 3.6, por facilidad y para un facil manejo del notebook he construido una clase ***Matriz*** que posee los metodos : \n",
    "* **naiveProdSeq()** : Ejecucion de una multiplicacion de matrices de manera secuencial. \n",
    "* **parallelNaiveProduct()**: Ejecucion de una multiplicacion de matrices utilizando multithreading\n",
    "* **processNaiveProduct()**: Ejecución de una multiplicación de matrice utizando multiprocessing. \n",
    "\n",
    "Además se intenta realizar la optimización del algoritmo para bajar la complejidad anteriormente mencionada, se realiza la multiplicación utilizando numpy que evita el problema del [GIL](https://wiki.python.org/moin/GlobalInterpreterLock) del cual hablaremos mas adelante.\n"
   ]
  },
  {
   "cell_type": "code",
   "execution_count": 1,
   "metadata": {},
   "outputs": [],
   "source": [
    "#!/usr/bin/python\n",
    "# encoding=utf8\n",
    "# Developer: hfjimenez@utp.edu.co, Homework #1\n",
    "# High Performance Computing, UTP, 2018-2\n",
    "# Notes : Conformable matrix, Acols == Brows.\n",
    "from concurrent.futures import ProcessPoolExecutor, ThreadPoolExecutor\n",
    "import numpy as np\n",
    "import time\n",
    "from pprint import pprint\n",
    "from src.util import *\n",
    "\n",
    "\n",
    "class MatrizError(Exception):\n",
    "    \"\"\" An exception class for Matrix \"\"\"\n",
    "    pass\n",
    "\n",
    "\n",
    "class Matriz(object):\n",
    "    \"\"\" A matriz representation \"\"\"\n",
    "\n",
    "    def __init__(self, rows, cols, prng=True, maxr=100):\n",
    "        print('{}Generando Matriz'.format(ok))\n",
    "        if prng:\n",
    "            self.rows = rows\n",
    "            self.cols = cols\n",
    "            self.m = np.random.randint(0, maxr, size=(\n",
    "                self.rows, self.cols), dtype=np.int64)\n",
    "            print('{}Matriz Aleatoria creada'.format(ok))\n",
    "        else:\n",
    "            self.m = np.zeros((rows, cols), dtype=np.int64)\n",
    "            # self.m = [[0]*n for x in range(m)]    # Another way if I don't want to use np\n",
    "\n",
    "    def info(self):\n",
    "        print('Matriz Information:\\nDimensions:{}\\nSize:{}\\nShape:{}\\nDatatype in usage:{}\\nItemSize:{}bytes'.format(\n",
    "            self.m.ndim, self.m.size, self.m.shape, self.m.dtype, self.m.itemsize))\n",
    "\n",
    "    def printm(self):\n",
    "        pprint(self.m)\n",
    "\n",
    "    def naiveProdSeq(self, B):\n",
    "        \"\"\" n**3 multiplication, sequential \"\"\"\n",
    "        if not (self.cols == B.rows):\n",
    "            raise MatrizError(\n",
    "                \"Error, numero de columnas de A debe ser igual al numero de Filas de B!\")\n",
    "        result = np.zeros((self.rows, B.cols), dtype=np.int64)\n",
    "        tm = len(self.m)    #Evitar el llamado a 10101 funciones de len.\n",
    "        tb = len(B.m)\n",
    "        for row in range(tm):\n",
    "            for col in range(tb):\n",
    "                for k in range(tm):\n",
    "                    result[row][col] += self.m[row][k] * B.m[k][col]\n",
    "        return result\n",
    "    \n",
    "    def naiveProdSeq2(self, B):\n",
    "        \"\"\" n**3 multiplication, sequential \"\"\"\n",
    "        if not (self.cols == B.rows):\n",
    "            raise MatrizError(\n",
    "                \"Error, numero de columnas de A debe ser igual al numero de Filas de B!\")\n",
    "        result = np.zeros((self.rows, B.cols), dtype=np.int64)\n",
    "        for row in range(len(self.m)):\n",
    "            for k in range(len(self.m)):\n",
    "                for col in range(len(B.m)):\n",
    "                    result[row][col] += self.m[row][k] * B.m[k][col]\n",
    "        return result\n",
    "    def numpyProduct(self, B):\n",
    "        \"\"\"My simple wrapper to multiply two matrix\"\"\"\n",
    "        result = np.multiply(self.m,B.m) # Fast Multiplication.\n",
    "        return result\n",
    "        "
   ]
  },
  {
   "cell_type": "markdown",
   "metadata": {},
   "source": [
    "*Notese* que para la construcción inicial de la matriz, se utiliza como representación los arrays de numpy, debido a que es mucho mas conveniente por eficienca y manejabilidad [4][4] y por complejidad espacial.\n",
    "\n",
    "\n",
    "[4]: https://stackoverflow.com/questions/993984/why-numpy-instead-of-python-lists\n"
   ]
  },
  {
   "cell_type": "code",
   "execution_count": 2,
   "metadata": {},
   "outputs": [
    {
     "name": "stdout",
     "output_type": "stream",
     "text": [
      "\u001b[1m\u001b[32m[✓]\u001b[0m Generando Matriz\n",
      "\u001b[1m\u001b[32m[✓]\u001b[0m Matriz Aleatoria creada\n",
      "array([[63, 91, 30, ..., 38, 75, 38],\n",
      "       [80, 80, 93, ..., 20,  9,  6],\n",
      "       [26, 33, 78, ..., 16, 25, 43],\n",
      "       ..., \n",
      "       [54, 74, 20, ..., 51, 55, 51],\n",
      "       [66, 22, 50, ..., 39, 11, 63],\n",
      "       [41, 64,  4, ...,  4, 92, 52]])\n"
     ]
    }
   ],
   "source": [
    "#Para demostrar el facil uso de esta clase crearemos 2 matrices de 100*100\n",
    "A = Matriz(100,100)\n",
    "# Si la imprimimos obtenemos :\n",
    "A.printm()"
   ]
  },
  {
   "cell_type": "code",
   "execution_count": 3,
   "metadata": {},
   "outputs": [
    {
     "name": "stdout",
     "output_type": "stream",
     "text": [
      "\u001b[1m\u001b[32m[✓]\u001b[0m Generando Matriz\n",
      "\u001b[1m\u001b[32m[✓]\u001b[0m Matriz Aleatoria creada\n",
      "array([[64, 50, 81, ..., 90, 92, 72],\n",
      "       [31, 40, 91, ..., 53, 72, 38],\n",
      "       [11, 15, 87, ..., 28, 80, 50],\n",
      "       ..., \n",
      "       [12, 14, 99, ..., 82, 14, 26],\n",
      "       [16, 96, 45, ..., 40,  3,  1],\n",
      "       [95, 39, 57, ..., 48, 82, 72]])\n"
     ]
    }
   ],
   "source": [
    "B = Matriz(100,100)\n",
    "B.printm()"
   ]
  },
  {
   "cell_type": "code",
   "execution_count": 4,
   "metadata": {},
   "outputs": [
    {
     "name": "stdout",
     "output_type": "stream",
     "text": [
      "1.25 s ± 93.6 ms per loop (mean ± std. dev. of 7 runs, 3 loops each)\n"
     ]
    }
   ],
   "source": [
    "# Si deseamos producir A*B, estadisticamente obtener el promedio con 3 veces de ejecucion \n",
    "%timeit -n 3 A.naiveProdSeq(B)  "
   ]
  },
  {
   "cell_type": "code",
   "execution_count": 5,
   "metadata": {},
   "outputs": [
    {
     "name": "stdout",
     "output_type": "stream",
     "text": [
      "1.24 s ± 129 ms per loop (mean ± std. dev. of 7 runs, 3 loops each)\n"
     ]
    }
   ],
   "source": [
    "# Sera que si tomamos cols primero, afectara el resultado ? de la forma ijk a ikj ?\n",
    "%timeit -n 3 A.naiveProdSeq2(B)"
   ]
  },
  {
   "cell_type": "code",
   "execution_count": 6,
   "metadata": {},
   "outputs": [
    {
     "name": "stdout",
     "output_type": "stream",
     "text": [
      "The slowest run took 8.45 times longer than the fastest. This could mean that an intermediate result is being cached.\n",
      "32.4 µs ± 31.2 µs per loop (mean ± std. dev. of 7 runs, 3 loops each)\n"
     ]
    }
   ],
   "source": [
    "%timeit -n 3 A.numpyProduct(B)"
   ]
  },
  {
   "cell_type": "code",
   "execution_count": 7,
   "metadata": {},
   "outputs": [
    {
     "name": "stdout",
     "output_type": "stream",
     "text": [
      "39 µs ± 23.6 µs per loop (mean ± std. dev. of 7 runs, 3 loops each)\n",
      "The slowest run took 8.26 times longer than the fastest. This could mean that an intermediate result is being cached.\n",
      "47.4 µs ± 58 µs per loop (mean ± std. dev. of 7 runs, 3 loops each)\n"
     ]
    }
   ],
   "source": [
    "# Es extraño el resultado de arriba, por que numpy corre mas rapido\n",
    "# Es posible que numpy acelere la ejecucion solo por si las moscas ejecutemos de nuevo perocon 5 veces : \n",
    "%timeit -n 3 A.numpyProduct(B) # A*B, con numpy\n",
    "%timeit -n 3 B.numpyProduct(A) # B*A, con numpy\n"
   ]
  },
  {
   "cell_type": "code",
   "execution_count": 8,
   "metadata": {},
   "outputs": [
    {
     "name": "stdout",
     "output_type": "stream",
     "text": [
      " "
     ]
    }
   ],
   "source": [
    "# Es posible saber en que parte del codigo es que se consume el mayor tiempo, \n",
    "# usando el profiler de python : \n",
    "\n",
    "%prun  B.numpyProduct(A)  \n"
   ]
  },
  {
   "cell_type": "code",
   "execution_count": 9,
   "metadata": {},
   "outputs": [
    {
     "name": "stdout",
     "output_type": "stream",
     "text": [
      " "
     ]
    }
   ],
   "source": [
    "# Ahora si  usamos el mismo profiler con nuestra multiplicacion ingenua : \n",
    "%prun A.naiveProdSeq(B) "
   ]
  },
  {
   "cell_type": "markdown",
   "metadata": {},
   "source": [
    "Ahora si queremos acelerar este procedimiento de la multiplicacion ingenua de matrices, podriamos usar algunas de las dos opciones  que hay : \n",
    "- Creacion de Multiples Hilos, pool de hilos(***Threads:Multithreading***)\n",
    "- Creacion de Multiples Procesos, pool de procesos (***Process:Multiprocessing***)\n",
    "\n",
    "En python3.6 contamos con varias librerias que permiteno hacer esto ."
   ]
  },
  {
   "cell_type": "markdown",
   "metadata": {},
   "source": [
    "#### Referencias :\n",
    "- https://en.wikipedia.org/wiki/Matrix_multiplication_algorithm#Iterative_algorithm\n",
    "- https://es.wikibooks.org/wiki/Optimizaci%C3%B3n_del_Producto_de_Matrices\n",
    "- https://en.wikipedia.org/wiki/Matrix_multiplication_algorithm#Iterative_algorithm\n",
    "- https://stackoverflow.com/questions/993984/why-numpy-instead-of-python-lists\n",
    "- https://martin-thoma.com/matrix-multiplication-python-java-cpp/"
   ]
  }
 ],
 "metadata": {
  "kernelspec": {
   "display_name": "Python 3",
   "language": "python",
   "name": "python3"
  },
  "language_info": {
   "codemirror_mode": {
    "name": "ipython",
    "version": 3
   },
   "file_extension": ".py",
   "mimetype": "text/x-python",
   "name": "python",
   "nbconvert_exporter": "python",
   "pygments_lexer": "ipython3",
   "version": "3.6.6"
  }
 },
 "nbformat": 4,
 "nbformat_minor": 2
}
