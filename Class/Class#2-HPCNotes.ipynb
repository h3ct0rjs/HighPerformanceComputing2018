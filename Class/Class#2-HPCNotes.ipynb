{
 "cells": [
  {
   "cell_type": "markdown",
   "metadata": {},
   "source": [
    "# Curvas de Aceleración \n",
    "<img src=\"http://preshing.com/images/integer-perf.png\" height=\"200px\" width=\"400px\">\n",
    "\n",
    "Imagine la situación donde deseamos llevar persona a 10Km de distancia, usted tiene la posibilidad de utilizar :\n",
    "\n",
    "-- \n",
    "* Automovil :  5 Personas a una velocidad promedio de 60Km/h \n",
    "* Bus : 15 Personas a una velocidad promedio de 20Km/h \n",
    "\n",
    "***Que podriamos medir allí?***\n",
    "\n",
    "* Tiempo \n",
    "* Recursos(Combustible)\n",
    "* Distancia recorrida, \n",
    "* Velocidad\n",
    "\n",
    "De manera analogica es posible realizar lo mismo cuando estamos corriendo programas, algoritmos. \n",
    "\n",
    "- Debemos especificar el contexto: Sistemas Operativos\n",
    "- Debemos especificar la maquina: Hardware Especificaciones, marcas\n",
    "- Los tiempos de ejecución deben ser promediados. \n",
    "    - Analisis de memoria, cores de cpu.\n",
    "    - Realizar el profiling del programa. \n",
    "        - Revision de hilos vs Procesos.\n",
    "        - Bottlenecks. \n",
    "- Si hay mensajes arquitecturas de red, stack para el envio de mensajes. \n",
    "\n",
    "**Nota : Checkar speedup ratio, como usar seaborn. **\n"
   ]
  }
 ],
 "metadata": {
  "kernelspec": {
   "display_name": "Python 3",
   "language": "python",
   "name": "python3"
  },
  "language_info": {
   "codemirror_mode": {
    "name": "ipython",
    "version": 3
   },
   "file_extension": ".py",
   "mimetype": "text/x-python",
   "name": "python",
   "nbconvert_exporter": "python",
   "pygments_lexer": "ipython3",
   "version": "3.6.6"
  }
 },
 "nbformat": 4,
 "nbformat_minor": 2
}
